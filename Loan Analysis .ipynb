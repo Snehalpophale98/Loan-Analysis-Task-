{
 "cells": [
  {
   "cell_type": "code",
   "execution_count": 1,
   "id": "d525e0d3",
   "metadata": {},
   "outputs": [],
   "source": [
    "import pandas as pd\n",
    "import numpy as np \n",
    "import matplotlib.pyplot as plt\n",
    "import seaborn as sns\n",
    "import datetime as dt"
   ]
  },
  {
   "cell_type": "code",
   "execution_count": 2,
   "id": "480939cb",
   "metadata": {},
   "outputs": [
    {
     "data": {
      "text/html": [
       "<div>\n",
       "<style scoped>\n",
       "    .dataframe tbody tr th:only-of-type {\n",
       "        vertical-align: middle;\n",
       "    }\n",
       "\n",
       "    .dataframe tbody tr th {\n",
       "        vertical-align: top;\n",
       "    }\n",
       "\n",
       "    .dataframe thead th {\n",
       "        text-align: right;\n",
       "    }\n",
       "</style>\n",
       "<table border=\"1\" class=\"dataframe\">\n",
       "  <thead>\n",
       "    <tr style=\"text-align: right;\">\n",
       "      <th></th>\n",
       "      <th>Loan Number</th>\n",
       "      <th>Due Date</th>\n",
       "      <th>State</th>\n",
       "      <th>DOB</th>\n",
       "      <th>Loan Amount</th>\n",
       "    </tr>\n",
       "  </thead>\n",
       "  <tbody>\n",
       "    <tr>\n",
       "      <th>0</th>\n",
       "      <td>1003431</td>\n",
       "      <td>2022-10-31</td>\n",
       "      <td>KARNATAKA</td>\n",
       "      <td>1987-02-09 00:00:00</td>\n",
       "      <td>240000.0</td>\n",
       "    </tr>\n",
       "    <tr>\n",
       "      <th>1</th>\n",
       "      <td>1004356</td>\n",
       "      <td>2022-10-31</td>\n",
       "      <td>MAHARASHTRA</td>\n",
       "      <td>1994-05-23 00:00:00</td>\n",
       "      <td>56000.0</td>\n",
       "    </tr>\n",
       "    <tr>\n",
       "      <th>2</th>\n",
       "      <td>1004464</td>\n",
       "      <td>2022-11-01</td>\n",
       "      <td>UTTAR PRADESH</td>\n",
       "      <td>1996-12-01 00:00:00</td>\n",
       "      <td>50000.0</td>\n",
       "    </tr>\n",
       "    <tr>\n",
       "      <th>3</th>\n",
       "      <td>1004626</td>\n",
       "      <td>2022-11-01</td>\n",
       "      <td>KERALA</td>\n",
       "      <td>1995-07-14 00:00:00</td>\n",
       "      <td>63000.0</td>\n",
       "    </tr>\n",
       "    <tr>\n",
       "      <th>4</th>\n",
       "      <td>1005011</td>\n",
       "      <td>2022-11-01</td>\n",
       "      <td>MAHARASHTRA</td>\n",
       "      <td>1994-05-30 00:00:00</td>\n",
       "      <td>50000.0</td>\n",
       "    </tr>\n",
       "    <tr>\n",
       "      <th>...</th>\n",
       "      <td>...</td>\n",
       "      <td>...</td>\n",
       "      <td>...</td>\n",
       "      <td>...</td>\n",
       "      <td>...</td>\n",
       "    </tr>\n",
       "    <tr>\n",
       "      <th>15957</th>\n",
       "      <td>901214</td>\n",
       "      <td>2022-11-29</td>\n",
       "      <td>ANDHRA PRADESH</td>\n",
       "      <td>1989-06-01 00:00:00</td>\n",
       "      <td>83000.0</td>\n",
       "    </tr>\n",
       "    <tr>\n",
       "      <th>15958</th>\n",
       "      <td>901226</td>\n",
       "      <td>2022-11-29</td>\n",
       "      <td>UTTAR PRADESH</td>\n",
       "      <td>1984-08-24 00:00:00</td>\n",
       "      <td>84000.0</td>\n",
       "    </tr>\n",
       "    <tr>\n",
       "      <th>15959</th>\n",
       "      <td>902041</td>\n",
       "      <td>2022-11-29</td>\n",
       "      <td>GUJARAT</td>\n",
       "      <td>1988-08-21 00:00:00</td>\n",
       "      <td>80000.0</td>\n",
       "    </tr>\n",
       "    <tr>\n",
       "      <th>15960</th>\n",
       "      <td>905612</td>\n",
       "      <td>2022-11-29</td>\n",
       "      <td>MAHARASHTRA</td>\n",
       "      <td>1990-07-09 00:00:00</td>\n",
       "      <td>75000.0</td>\n",
       "    </tr>\n",
       "    <tr>\n",
       "      <th>15961</th>\n",
       "      <td>946445</td>\n",
       "      <td>2022-11-27</td>\n",
       "      <td>UTTAR PRADESH</td>\n",
       "      <td>1989-12-10 00:00:00</td>\n",
       "      <td>75000.0</td>\n",
       "    </tr>\n",
       "  </tbody>\n",
       "</table>\n",
       "<p>15962 rows × 5 columns</p>\n",
       "</div>"
      ],
      "text/plain": [
       "       Loan Number    Due Date           State                  DOB  \\\n",
       "0          1003431  2022-10-31       KARNATAKA  1987-02-09 00:00:00   \n",
       "1          1004356  2022-10-31     MAHARASHTRA  1994-05-23 00:00:00   \n",
       "2          1004464  2022-11-01   UTTAR PRADESH  1996-12-01 00:00:00   \n",
       "3          1004626  2022-11-01          KERALA  1995-07-14 00:00:00   \n",
       "4          1005011  2022-11-01     MAHARASHTRA  1994-05-30 00:00:00   \n",
       "...            ...         ...             ...                  ...   \n",
       "15957       901214  2022-11-29  ANDHRA PRADESH  1989-06-01 00:00:00   \n",
       "15958       901226  2022-11-29   UTTAR PRADESH  1984-08-24 00:00:00   \n",
       "15959       902041  2022-11-29         GUJARAT  1988-08-21 00:00:00   \n",
       "15960       905612  2022-11-29     MAHARASHTRA  1990-07-09 00:00:00   \n",
       "15961       946445  2022-11-27   UTTAR PRADESH  1989-12-10 00:00:00   \n",
       "\n",
       "       Loan Amount  \n",
       "0         240000.0  \n",
       "1          56000.0  \n",
       "2          50000.0  \n",
       "3          63000.0  \n",
       "4          50000.0  \n",
       "...            ...  \n",
       "15957      83000.0  \n",
       "15958      84000.0  \n",
       "15959      80000.0  \n",
       "15960      75000.0  \n",
       "15961      75000.0  \n",
       "\n",
       "[15962 rows x 5 columns]"
      ]
     },
     "execution_count": 2,
     "metadata": {},
     "output_type": "execute_result"
    }
   ],
   "source": [
    "df1 = pd.read_csv(\"Portfolio_data.csv\")\n",
    "df1"
   ]
  },
  {
   "cell_type": "code",
   "execution_count": 3,
   "id": "9dc4f947",
   "metadata": {},
   "outputs": [
    {
     "data": {
      "text/html": [
       "<div>\n",
       "<style scoped>\n",
       "    .dataframe tbody tr th:only-of-type {\n",
       "        vertical-align: middle;\n",
       "    }\n",
       "\n",
       "    .dataframe tbody tr th {\n",
       "        vertical-align: top;\n",
       "    }\n",
       "\n",
       "    .dataframe thead th {\n",
       "        text-align: right;\n",
       "    }\n",
       "</style>\n",
       "<table border=\"1\" class=\"dataframe\">\n",
       "  <thead>\n",
       "    <tr style=\"text-align: right;\">\n",
       "      <th></th>\n",
       "      <th>Loan Number</th>\n",
       "      <th>Campaign ID</th>\n",
       "      <th>Communication Operator Message ID</th>\n",
       "      <th>Call time</th>\n",
       "      <th>Status</th>\n",
       "    </tr>\n",
       "  </thead>\n",
       "  <tbody>\n",
       "    <tr>\n",
       "      <th>0</th>\n",
       "      <td>16748071234</td>\n",
       "      <td>161584404</td>\n",
       "      <td>21a1f7b1ce4d23d558e300626d5016c2</td>\n",
       "      <td>2022-12-02T02:59:40.973Z</td>\n",
       "      <td>completed</td>\n",
       "    </tr>\n",
       "    <tr>\n",
       "      <th>1</th>\n",
       "      <td>16734601234</td>\n",
       "      <td>161584404</td>\n",
       "      <td>edecb5cd796826ef8bcde2f4814f16c2</td>\n",
       "      <td>2022-12-02T03:57:51.335Z</td>\n",
       "      <td>completed</td>\n",
       "    </tr>\n",
       "    <tr>\n",
       "      <th>2</th>\n",
       "      <td>1631580</td>\n",
       "      <td>161307935</td>\n",
       "      <td>6a79ed24fa727ae9341f53a9df8816c2</td>\n",
       "      <td>2022-12-02T04:34:26.950Z</td>\n",
       "      <td>completed</td>\n",
       "    </tr>\n",
       "    <tr>\n",
       "      <th>3</th>\n",
       "      <td>1631580</td>\n",
       "      <td>161307935</td>\n",
       "      <td>ce45ac657c26d5d10e6d1eb4aacc16c2</td>\n",
       "      <td>2022-12-02T04:34:57.213Z</td>\n",
       "      <td>completed</td>\n",
       "    </tr>\n",
       "    <tr>\n",
       "      <th>4</th>\n",
       "      <td>1631580</td>\n",
       "      <td>161307935</td>\n",
       "      <td>6c864d7097f2df3eed4900ea892816c2</td>\n",
       "      <td>2022-12-02T04:36:21.594Z</td>\n",
       "      <td>completed</td>\n",
       "    </tr>\n",
       "    <tr>\n",
       "      <th>...</th>\n",
       "      <td>...</td>\n",
       "      <td>...</td>\n",
       "      <td>...</td>\n",
       "      <td>...</td>\n",
       "      <td>...</td>\n",
       "    </tr>\n",
       "    <tr>\n",
       "      <th>70602</th>\n",
       "      <td>1505359</td>\n",
       "      <td>173536581</td>\n",
       "      <td>e00ab7123a2ec89f4ef8c752973016c7</td>\n",
       "      <td>2022-12-07T17:57:44.814Z</td>\n",
       "      <td>completed</td>\n",
       "    </tr>\n",
       "    <tr>\n",
       "      <th>70603</th>\n",
       "      <td>1657882</td>\n",
       "      <td>173536581</td>\n",
       "      <td>4ad88b1f7ec7346435db29b5529916c7</td>\n",
       "      <td>2022-12-07T18:38:06.691Z</td>\n",
       "      <td>completed</td>\n",
       "    </tr>\n",
       "    <tr>\n",
       "      <th>70604</th>\n",
       "      <td>1517330</td>\n",
       "      <td>173536581</td>\n",
       "      <td>41aab721f9e38552d5b688d8142816c8</td>\n",
       "      <td>2022-12-07T20:03:30.600Z</td>\n",
       "      <td>completed</td>\n",
       "    </tr>\n",
       "    <tr>\n",
       "      <th>70605</th>\n",
       "      <td>1769119</td>\n",
       "      <td>172948100</td>\n",
       "      <td>c455574ddfbf0fcdec9399bf5b6b16c8</td>\n",
       "      <td>2022-12-07T20:05:00.526Z</td>\n",
       "      <td>completed</td>\n",
       "    </tr>\n",
       "    <tr>\n",
       "      <th>70606</th>\n",
       "      <td>1748023</td>\n",
       "      <td>172948100</td>\n",
       "      <td>b5b869e4da188e2ffdbbb21bd7c416c8</td>\n",
       "      <td>2022-12-07T23:25:16.448Z</td>\n",
       "      <td>completed</td>\n",
       "    </tr>\n",
       "  </tbody>\n",
       "</table>\n",
       "<p>70607 rows × 5 columns</p>\n",
       "</div>"
      ],
      "text/plain": [
       "       Loan Number  Campaign ID Communication Operator Message ID  \\\n",
       "0      16748071234    161584404  21a1f7b1ce4d23d558e300626d5016c2   \n",
       "1      16734601234    161584404  edecb5cd796826ef8bcde2f4814f16c2   \n",
       "2          1631580    161307935  6a79ed24fa727ae9341f53a9df8816c2   \n",
       "3          1631580    161307935  ce45ac657c26d5d10e6d1eb4aacc16c2   \n",
       "4          1631580    161307935  6c864d7097f2df3eed4900ea892816c2   \n",
       "...            ...          ...                               ...   \n",
       "70602      1505359    173536581  e00ab7123a2ec89f4ef8c752973016c7   \n",
       "70603      1657882    173536581  4ad88b1f7ec7346435db29b5529916c7   \n",
       "70604      1517330    173536581  41aab721f9e38552d5b688d8142816c8   \n",
       "70605      1769119    172948100  c455574ddfbf0fcdec9399bf5b6b16c8   \n",
       "70606      1748023    172948100  b5b869e4da188e2ffdbbb21bd7c416c8   \n",
       "\n",
       "                      Call time     Status  \n",
       "0      2022-12-02T02:59:40.973Z  completed  \n",
       "1      2022-12-02T03:57:51.335Z  completed  \n",
       "2      2022-12-02T04:34:26.950Z  completed  \n",
       "3      2022-12-02T04:34:57.213Z  completed  \n",
       "4      2022-12-02T04:36:21.594Z  completed  \n",
       "...                         ...        ...  \n",
       "70602  2022-12-07T17:57:44.814Z  completed  \n",
       "70603  2022-12-07T18:38:06.691Z  completed  \n",
       "70604  2022-12-07T20:03:30.600Z  completed  \n",
       "70605  2022-12-07T20:05:00.526Z  completed  \n",
       "70606  2022-12-07T23:25:16.448Z  completed  \n",
       "\n",
       "[70607 rows x 5 columns]"
      ]
     },
     "execution_count": 3,
     "metadata": {},
     "output_type": "execute_result"
    }
   ],
   "source": [
    "df = pd.read_csv(\"CommunicationHistory.csv\")\n",
    "df"
   ]
  },
  {
   "cell_type": "code",
   "execution_count": 4,
   "id": "2976ad3b",
   "metadata": {},
   "outputs": [
    {
     "data": {
      "text/plain": [
       "Index(['Loan Number', 'Campaign ID', 'Communication Operator Message ID',\n",
       "       'Call time', 'Status'],\n",
       "      dtype='object')"
      ]
     },
     "execution_count": 4,
     "metadata": {},
     "output_type": "execute_result"
    }
   ],
   "source": [
    "df.columns"
   ]
  },
  {
   "cell_type": "code",
   "execution_count": 5,
   "id": "d23b5de1",
   "metadata": {},
   "outputs": [
    {
     "data": {
      "image/png": "[encoded data removed]",
      "text/plain": [
       "<Figure size 1080x360 with 2 Axes>"
      ]
     },
     "metadata": {
      "needs_background": "light"
     },
     "output_type": "display_data"
    }
   ],
   "source": [
    "df1.hist(figsize = (15,5),bins = 50)\n",
    "plt.show()"
   ]
  },
  {
   "cell_type": "code",
   "execution_count": 6,
   "id": "47b09ba9",
   "metadata": {},
   "outputs": [],
   "source": [
    "# 1) Distribution of loans across different states"
   ]
  },
  {
   "cell_type": "code",
   "execution_count": 7,
   "id": "3202cd3f",
   "metadata": {},
   "outputs": [],
   "source": [
    "state_loan = df1.groupby('State')['Loan Amount'].sum()"
   ]
  },
  {
   "cell_type": "code",
   "execution_count": 8,
   "id": "5de4528d",
   "metadata": {},
   "outputs": [
    {
     "data": {
      "image/png": "[encoded data removed]",
      "text/plain": [
       "<Figure size 864x432 with 1 Axes>"
      ]
     },
     "metadata": {
      "needs_background": "light"
     },
     "output_type": "display_data"
    }
   ],
   "source": [
    "state_loan.plot(kind='bar', figsize=(12,6))\n",
    "plt.title('Loan Distribution by State')\n",
    "plt.xlabel('State')\n",
    "plt.ylabel('Total Loan Amount')\n",
    "plt.show()"
   ]
  },
  {
   "cell_type": "code",
   "execution_count": 9,
   "id": "558972f9",
   "metadata": {},
   "outputs": [],
   "source": [
    "#2) Distribution of loans across different amounts"
   ]
  },
  {
   "cell_type": "code",
   "execution_count": 10,
   "id": "0104c6f9",
   "metadata": {},
   "outputs": [
    {
     "data": {
      "image/png": "[encoded data removed]",
      "text/plain": [
       "<Figure size 864x432 with 1 Axes>"
      ]
     },
     "metadata": {
      "needs_background": "light"
     },
     "output_type": "display_data"
    }
   ],
   "source": [
    "df1['Loan Amount'].plot(kind='hist', bins=20, figsize=(12,6))\n",
    "plt.title('Loan Distribution by Amount')\n",
    "plt.xlabel('Loan Amount')\n",
    "plt.ylabel('Frequency')\n",
    "plt.show()"
   ]
  },
  {
   "cell_type": "code",
   "execution_count": 11,
   "id": "0d6f597d",
   "metadata": {},
   "outputs": [
    {
     "data": {
      "text/plain": [
       "5000.0     6757\n",
       "7000.0     3474\n",
       "5017.0     1050\n",
       "10000.0     643\n",
       "6000.0      348\n",
       "5020.0      337\n",
       "15000.0     273\n",
       "7028.0      243\n",
       "20000.0     206\n",
       "4000.0      152\n",
       "3000.0      139\n",
       "5100.0      124\n",
       "10040.0     111\n",
       "16000.0      95\n",
       "18000.0      88\n",
       "8000.0       77\n",
       "17000.0      71\n",
       "12000.0      62\n",
       "19000.0      57\n",
       "25000.0      56\n",
       "Name: Loan Amount, dtype: int64"
      ]
     },
     "execution_count": 11,
     "metadata": {},
     "output_type": "execute_result"
    }
   ],
   "source": [
    "x = df1['Loan Amount'].value_counts()\n",
    "x.head(20)"
   ]
  },
  {
   "cell_type": "code",
   "execution_count": 12,
   "id": "fdfa28d2",
   "metadata": {},
   "outputs": [],
   "source": [
    "#3)Distribution of customers by age"
   ]
  },
  {
   "cell_type": "code",
   "execution_count": 13,
   "id": "47f91da3",
   "metadata": {},
   "outputs": [],
   "source": [
    "dob = dt.datetime.strptime(df1.loc[0, 'DOB'], '%Y-%m-%d %H:%M:%S')\n",
    "df1['DOB'] = (dt.datetime.today() - dob).days // 365"
   ]
  },
  {
   "cell_type": "code",
   "execution_count": 14,
   "id": "b9f00206",
   "metadata": {},
   "outputs": [
    {
     "data": {
      "image/png": "[encoded data removed]",
      "text/plain": [
       "<Figure size 864x432 with 1 Axes>"
      ]
     },
     "metadata": {
      "needs_background": "light"
     },
     "output_type": "display_data"
    }
   ],
   "source": [
    "df1['DOB'].plot(kind='hist', bins=20, figsize=(12,6))\n",
    "plt.title('Customer Distribution by Age')\n",
    "plt.xlabel('Age')\n",
    "plt.ylabel('Frequency')\n",
    "plt.show()"
   ]
  },
  {
   "cell_type": "code",
   "execution_count": 15,
   "id": "9a8ac078",
   "metadata": {},
   "outputs": [
    {
     "data": {
      "text/plain": [
       "36    15962\n",
       "Name: DOB, dtype: int64"
      ]
     },
     "execution_count": 15,
     "metadata": {},
     "output_type": "execute_result"
    }
   ],
   "source": [
    "y = df1['DOB'].value_counts()\n",
    "y"
   ]
  },
  {
   "cell_type": "code",
   "execution_count": 16,
   "id": "6dbe2495",
   "metadata": {},
   "outputs": [],
   "source": [
    "#4) Distribution of loans by due dates"
   ]
  },
  {
   "cell_type": "code",
   "execution_count": 17,
   "id": "a6ba9d86",
   "metadata": {},
   "outputs": [],
   "source": [
    "df1['Due Date'] = pd.to_datetime(df1['Due Date'])"
   ]
  },
  {
   "cell_type": "code",
   "execution_count": 18,
   "id": "f21d0c85",
   "metadata": {},
   "outputs": [],
   "source": [
    "loans_by_due_date = df1.groupby('Due Date').size().reset_index(name='Loan Count')"
   ]
  },
  {
   "cell_type": "code",
   "execution_count": 19,
   "id": "05516153",
   "metadata": {},
   "outputs": [
    {
     "data": {
      "image/png": "[encoded data removed]",
      "text/plain": [
       "<Figure size 864x432 with 1 Axes>"
      ]
     },
     "metadata": {
      "needs_background": "light"
     },
     "output_type": "display_data"
    }
   ],
   "source": [
    "loans_by_due_date.plot(x='Due Date', y='Loan Count', figsize=(12,6))\n",
    "plt.title('Loan Distribution by Due Date')\n",
    "plt.xlabel('Due Date')\n",
    "plt.ylabel('Loan Count')\n",
    "plt.show()"
   ]
  },
  {
   "cell_type": "code",
   "execution_count": null,
   "id": "a1adab7b",
   "metadata": {},
   "outputs": [],
   "source": []
  },
  {
   "cell_type": "code",
   "execution_count": null,
   "id": "adc74906",
   "metadata": {},
   "outputs": [],
   "source": []
  },
  {
   "cell_type": "code",
   "execution_count": 20,
   "id": "263ff503",
   "metadata": {},
   "outputs": [],
   "source": [
    "#1) Unique number of customers contacted every day - only completed calls are to be considered - How many unique \n",
    "#borrowers did we contact on day 1, day 2 etc."
   ]
  },
  {
   "cell_type": "code",
   "execution_count": 21,
   "id": "04b7aa1e",
   "metadata": {},
   "outputs": [],
   "source": [
    "completed_calls = df[df['Status'] == 'completed']"
   ]
  },
  {
   "cell_type": "code",
   "execution_count": 22,
   "id": "e7d587f0",
   "metadata": {},
   "outputs": [
    {
     "name": "stderr",
     "output_type": "stream",
     "text": [
      "C:\\Users\\sneha\\AppData\\Local\\Temp\\ipykernel_16564\\449599969.py:1: SettingWithCopyWarning: \n",
      "A value is trying to be set on a copy of a slice from a DataFrame.\n",
      "Try using .loc[row_indexer,col_indexer] = value instead\n",
      "\n",
      "See the caveats in the documentation: https://pandas.pydata.org/pandas-docs/stable/user_guide/indexing.html#returning-a-view-versus-a-copy\n",
      "  completed_calls['Call time'] = pd.to_datetime(completed_calls['Call time'])\n"
     ]
    }
   ],
   "source": [
    "completed_calls['Call time'] = pd.to_datetime(completed_calls['Call time'])"
   ]
  },
  {
   "cell_type": "code",
   "execution_count": 23,
   "id": "20001f27",
   "metadata": {},
   "outputs": [],
   "source": [
    "unique_borrowers_by_date = completed_calls.groupby(completed_calls['Call time'].dt.date)['Loan Number'].nunique()"
   ]
  },
  {
   "cell_type": "code",
   "execution_count": 24,
   "id": "56c1c847",
   "metadata": {},
   "outputs": [
    {
     "name": "stdout",
     "output_type": "stream",
     "text": [
      "Call time\n",
      "2022-12-02    7845\n",
      "2022-12-03    6929\n",
      "2022-12-04    6103\n",
      "2022-12-05    6284\n",
      "2022-12-06    5665\n",
      "2022-12-07    4261\n",
      "Name: Loan Number, dtype: int64\n"
     ]
    }
   ],
   "source": [
    "print(unique_borrowers_by_date)"
   ]
  },
  {
   "cell_type": "code",
   "execution_count": null,
   "id": "5e9893dc",
   "metadata": {},
   "outputs": [],
   "source": []
  },
  {
   "cell_type": "code",
   "execution_count": 25,
   "id": "7b401c3f",
   "metadata": {},
   "outputs": [],
   "source": [
    "#2)Number of customers not contacted on every day. How many borrowers are not contacted on day 1, day 2 etc."
   ]
  },
  {
   "cell_type": "code",
   "execution_count": 26,
   "id": "7854bf40",
   "metadata": {},
   "outputs": [
    {
     "name": "stdout",
     "output_type": "stream",
     "text": [
      "[3372, 4288, 5114, 4933, 5552, 6956]\n"
     ]
    }
   ],
   "source": [
    "all_borrowers = completed_calls['Loan Number'].unique()\n",
    "not_contacted_by_date = []\n",
    "for date in unique_borrowers_by_date.index:\n",
    "    contacts_on_date = unique_borrowers_by_date.loc[date]\n",
    "    not_contacted = len(all_borrowers) - contacts_on_date\n",
    "    not_contacted_by_date.append(not_contacted)\n",
    "print(not_contacted_by_date)\n"
   ]
  },
  {
   "cell_type": "code",
   "execution_count": null,
   "id": "63b92814",
   "metadata": {},
   "outputs": [],
   "source": []
  },
  {
   "cell_type": "code",
   "execution_count": 27,
   "id": "59db4b36",
   "metadata": {},
   "outputs": [],
   "source": [
    "#4)Who are the customers who have been contacted the most"
   ]
  },
  {
   "cell_type": "code",
   "execution_count": 28,
   "id": "caba2f06",
   "metadata": {},
   "outputs": [],
   "source": [
    "calls_per_borrower = completed_calls.groupby('Loan Number')['Call time'].count()"
   ]
  },
  {
   "cell_type": "code",
   "execution_count": 29,
   "id": "238864a3",
   "metadata": {},
   "outputs": [
    {
     "data": {
      "text/plain": [
       "Loan Number\n",
       "1659081    38\n",
       "1580447    30\n",
       "1564892    28\n",
       "1542440    28\n",
       "1759399    27\n",
       "1817574    27\n",
       "1625201    26\n",
       "1691978    26\n",
       "1814726    26\n",
       "1637862    26\n",
       "Name: Call time, dtype: int64"
      ]
     },
     "execution_count": 29,
     "metadata": {},
     "output_type": "execute_result"
    }
   ],
   "source": [
    "sorted_borrowers = calls_per_borrower.sort_values(ascending=False)\n",
    "sorted_borrowers.head(10)"
   ]
  },
  {
   "cell_type": "code",
   "execution_count": null,
   "id": "9d2c401a",
   "metadata": {},
   "outputs": [],
   "source": []
  },
  {
   "cell_type": "code",
   "execution_count": 30,
   "id": "fd777ff2",
   "metadata": {},
   "outputs": [],
   "source": [
    "#5) Who are the customers who have been contacted the least"
   ]
  },
  {
   "cell_type": "code",
   "execution_count": 31,
   "id": "c71adcc5",
   "metadata": {},
   "outputs": [
    {
     "data": {
      "text/plain": [
       "Loan Number\n",
       "16748071234    1\n",
       "1754354        1\n",
       "1754295        1\n",
       "1611769        1\n",
       "1611817        1\n",
       "1754215        1\n",
       "1754097        1\n",
       "1753979        1\n",
       "1612943        1\n",
       "1753730        1\n",
       "Name: Call time, dtype: int64"
      ]
     },
     "execution_count": 31,
     "metadata": {},
     "output_type": "execute_result"
    }
   ],
   "source": [
    "sorted_borrowers_leastcalled = calls_per_borrower.sort_values()\n",
    "sorted_borrowers_leastcalled.head(10)"
   ]
  },
  {
   "cell_type": "code",
   "execution_count": null,
   "id": "21b8ec7b",
   "metadata": {},
   "outputs": [],
   "source": []
  },
  {
   "cell_type": "code",
   "execution_count": 32,
   "id": "5c88736c",
   "metadata": {},
   "outputs": [],
   "source": [
    "#6)How many customers have never been reached out?"
   ]
  },
  {
   "cell_type": "code",
   "execution_count": 33,
   "id": "d4bd7852",
   "metadata": {},
   "outputs": [],
   "source": [
    "completed_loan_numbers = df[df['Status'] == 'completed']['Loan Number'].unique()"
   ]
  },
  {
   "cell_type": "code",
   "execution_count": 34,
   "id": "f258609f",
   "metadata": {},
   "outputs": [],
   "source": [
    "all_loan_numbers = df['Loan Number'].unique()"
   ]
  },
  {
   "cell_type": "code",
   "execution_count": 35,
   "id": "8384a9ae",
   "metadata": {},
   "outputs": [],
   "source": [
    "not_contacted_loan_numbers = list(set(all_loan_numbers) - set(completed_loan_numbers))"
   ]
  },
  {
   "cell_type": "code",
   "execution_count": 36,
   "id": "3bb160dd",
   "metadata": {},
   "outputs": [
    {
     "name": "stdout",
     "output_type": "stream",
     "text": [
      "[1519456, 1565907, 1718725]\n"
     ]
    }
   ],
   "source": [
    "print(not_contacted_loan_numbers)"
   ]
  },
  {
   "cell_type": "code",
   "execution_count": null,
   "id": "d8d99011",
   "metadata": {},
   "outputs": [],
   "source": []
  },
  {
   "cell_type": "code",
   "execution_count": 37,
   "id": "e3d1effa",
   "metadata": {},
   "outputs": [],
   "source": [
    "#7) Distribution of calls by states."
   ]
  },
  {
   "cell_type": "code",
   "execution_count": 38,
   "id": "2c283485",
   "metadata": {},
   "outputs": [],
   "source": [
    "merged_data = pd.merge(df1, df, on='Loan Number')"
   ]
  },
  {
   "cell_type": "code",
   "execution_count": 47,
   "id": "11b254f7",
   "metadata": {},
   "outputs": [],
   "source": [
    "calls_statwise = merged_data.groupby('State')['Call time'].sum()"
   ]
  },
  {
   "cell_type": "code",
   "execution_count": 49,
   "id": "d9d50b0b",
   "metadata": {},
   "outputs": [
    {
     "name": "stdout",
     "output_type": "stream",
     "text": [
      "State\n",
      "Nagaland                     2022-12-07T06:52:20.650Z2022-12-07T14:31:23.99...\n",
      "TELANGANA                    2022-12-04T06:31:08.982Z2022-12-04T09:27:59.66...\n",
      "Chandigarh                   2022-12-03T13:21:34.536Z2022-12-02T08:42:46.73...\n",
      "KARNATAKA                    2022-12-03T13:16:04.150Z2022-12-04T05:50:06.50...\n",
      "JHARKHAND                    2022-12-03T12:49:14.978Z2022-12-04T06:52:10.80...\n",
      "Meghalaya                    2022-12-03T12:22:05.081Z2022-12-04T06:52:21.87...\n",
      "ANDAMAN & NICOBAR ISLANDS    2022-12-03T10:23:39.270Z2022-12-03T13:35:28.85...\n",
      "UTTAR PRADESH                2022-12-03T05:58:34.949Z2022-12-03T09:47:08.34...\n",
      "MAHARASHTRA                  2022-12-02T13:26:29.198Z2022-12-04T14:09:47.84...\n",
      "Chattisgarh                  2022-12-02T13:13:52.952Z2022-12-03T10:11:51.02...\n",
      "WEST BENGAL                  2022-12-02T12:20:08.813Z2022-12-03T14:02:19.63...\n",
      "Manipur                      2022-12-02T12:02:35.864Z2022-12-02T09:10:21.74...\n",
      "UTTARAKHAND                  2022-12-02T10:55:36.600Z2022-12-07T12:34:23.10...\n",
      "CHATTISGARH                  2022-12-02T09:52:52.526Z2022-12-02T11:21:21.99...\n",
      "TAMIL NADU                   2022-12-02T09:52:08.869Z2022-12-02T12:51:43.83...\n",
      "DAMAN & DIU                  2022-12-02T09:46:59.762Z2022-12-02T12:14:04.93...\n",
      "Sikkim                       2022-12-02T09:38:18.829Z2022-12-03T07:04:21.98...\n",
      "Goa                          2022-12-02T09:30:22.070Z2022-12-02T11:56:25.40...\n",
      "Mizoram                      2022-12-02T09:29:46.660Z2022-12-03T07:34:27.40...\n",
      "ANDHRA PRADESH               2022-12-02T09:22:38.162Z2022-12-02T12:24:06.15...\n",
      "Madhya Pradesh                2022-12-02T09:21:42.440Z2022-12-02T12:04:10.697Z\n",
      "DADRA & NAGAR HAVELI         2022-12-02T09:12:36.150Z2022-12-02T13:06:34.07...\n",
      "Pondicherry                  2022-12-02T09:10:37.221Z2022-12-02T11:39:05.44...\n",
      "Haryana                      2022-12-02T09:06:16.290Z2022-12-02T12:02:21.35...\n",
      "ASSAM                        2022-12-02T08:59:38.307Z2022-12-02T12:25:45.36...\n",
      "Arunachal Pradesh            2022-12-02T08:55:58.272Z2022-12-02T11:54:35.17...\n",
      "MADHYA PRADESH               2022-12-02T08:50:08.245Z2022-12-02T11:21:47.43...\n",
      "TRIPURA                      2022-12-02T08:41:04.081Z2022-12-02T08:42:03.18...\n",
      "Maharashtra                  2022-12-02T08:40:19.603Z2022-12-05T07:12:46.43...\n",
      "PUNJAB                       2022-12-02T08:27:15.097Z2022-12-02T11:24:00.37...\n",
      "DELHI                        2022-12-02T08:25:47.346Z2022-12-02T11:20:31.33...\n",
      "HIMACHAL PRADESH             2022-12-02T08:23:39.211Z2022-12-02T08:55:52.33...\n",
      "ODISHA                       2022-12-02T08:23:37.988Z2022-12-02T11:24:57.00...\n",
      "RAJASTHAN                    2022-12-02T08:21:22.096Z2022-12-03T06:02:53.17...\n",
      "KERALA                       2022-12-02T08:20:05.726Z2022-12-03T05:56:25.62...\n",
      "BIHAR                        2022-12-02T08:18:24.883Z2022-12-02T11:18:54.14...\n",
      "JAMMU & KASHMIR              2022-12-02T08:18:14.847Z2022-12-02T11:19:33.70...\n",
      "GUJARAT                      2022-12-02T08:17:03.309Z2022-12-03T06:01:56.27...\n",
      "HARYANA                      2022-12-02T08:16:48.648Z2022-12-02T11:18:29.75...\n",
      "Name: Call time, dtype: object\n"
     ]
    }
   ],
   "source": [
    "sorted_campaign = calls_statwise.sort_values(ascending=False)\n",
    "print(sorted_campaign)"
   ]
  },
  {
   "cell_type": "code",
   "execution_count": 40,
   "id": "c7f1f993",
   "metadata": {},
   "outputs": [],
   "source": [
    "# 8) Distribution of calls by campaign ids"
   ]
  },
  {
   "cell_type": "code",
   "execution_count": 41,
   "id": "90af722a",
   "metadata": {},
   "outputs": [
    {
     "name": "stdout",
     "output_type": "stream",
     "text": [
      "Campaign ID\n",
      "164168595    6905\n",
      "164661895    6413\n",
      "165448984    3736\n",
      "170181308    3637\n",
      "168801291    3545\n",
      "167104482    3416\n",
      "166203288    3391\n",
      "166790104    3286\n",
      "170740199    3280\n",
      "168389540    3106\n",
      "171446618    3045\n",
      "169508126    3014\n",
      "172117487    2973\n",
      "172948100    2802\n",
      "167820924    2692\n",
      "165448976    1684\n",
      "173536581    1632\n",
      "166203285    1507\n",
      "166790108    1467\n",
      "172503470    1184\n",
      "167104488    1068\n",
      "168389543     945\n",
      "168801293     878\n",
      "167820915     797\n",
      "170181312     694\n",
      "169508122     660\n",
      "170740200     554\n",
      "171446611     501\n",
      "172117491     495\n",
      "172503471     486\n",
      "173536583     466\n",
      "172948097     316\n",
      "169508129      11\n",
      "167104481       5\n",
      "156594506       4\n",
      "161307935       4\n",
      "161584404       3\n",
      "172503474       2\n",
      "161310463       2\n",
      "135474249       1\n",
      "Name: Call time, dtype: int64\n"
     ]
    }
   ],
   "source": [
    "calls_by_campaign = df.groupby('Campaign ID')['Call time'].count()\n",
    "sorted_campaigns = calls_by_campaign.sort_values(ascending=False)\n",
    "print(sorted_campaigns)"
   ]
  },
  {
   "cell_type": "code",
   "execution_count": 42,
   "id": "9fe76123",
   "metadata": {},
   "outputs": [
    {
     "data": {
      "image/png": "[encoded data removed]",
      "text/plain": [
       "<Figure size 432x288 with 1 Axes>"
      ]
     },
     "metadata": {
      "needs_background": "light"
     },
     "output_type": "display_data"
    }
   ],
   "source": [
    "fig, ax = plt.subplots()\n",
    "ax.bar(sorted_campaigns.index, sorted_campaigns.values)\n",
    "\n",
    "# Set the chart title and axis labels\n",
    "ax.set_title('Distribution of Calls by Campaign ID')\n",
    "ax.set_xlabel('Campaign ID')\n",
    "ax.set_ylabel('Number of Calls')\n",
    "\n",
    "# Rotate the x-axis labels for readability\n",
    "plt.xticks(rotation=90)\n",
    "\n",
    "# Show the chart\n",
    "plt.show()"
   ]
  },
  {
   "cell_type": "code",
   "execution_count": 43,
   "id": "4befd908",
   "metadata": {},
   "outputs": [],
   "source": [
    "#Unique number of customers by campaign ID"
   ]
  },
  {
   "cell_type": "code",
   "execution_count": 44,
   "id": "4da96bd7",
   "metadata": {},
   "outputs": [
    {
     "name": "stdout",
     "output_type": "stream",
     "text": [
      "Campaign ID\n",
      "164168595    6306\n",
      "164661895    5833\n",
      "165448984    3430\n",
      "170181308    3419\n",
      "168801291    3353\n",
      "167104482    3227\n",
      "166203288    3189\n",
      "170740199    3128\n",
      "166790104    3070\n",
      "168389540    2925\n",
      "171446618    2902\n",
      "169508126    2878\n",
      "172117487    2789\n",
      "172948100    2663\n",
      "167820924    2578\n",
      "165448976    1576\n",
      "173536581    1572\n",
      "166203285    1450\n",
      "166790108    1408\n",
      "172503470    1134\n",
      "167104488    1019\n",
      "168389543     877\n",
      "168801293     841\n",
      "167820915     747\n",
      "170181312     654\n",
      "169508122     629\n",
      "170740200     529\n",
      "171446611     472\n",
      "172503471     465\n",
      "172117491     463\n",
      "173536583     433\n",
      "172948097     308\n",
      "169508129      11\n",
      "167104481       5\n",
      "161584404       3\n",
      "156594506       2\n",
      "172503474       2\n",
      "161310463       2\n",
      "161307935       1\n",
      "135474249       1\n",
      "Name: Loan Number, dtype: int64\n"
     ]
    }
   ],
   "source": [
    "unique_customers_by_campaign = df.groupby('Campaign ID')['Loan Number'].nunique()\n",
    "sorted_campaigns = unique_customers_by_campaign.sort_values(ascending=False)\n",
    "print(sorted_campaigns)"
   ]
  },
  {
   "cell_type": "code",
   "execution_count": null,
   "id": "3a85fbc4",
   "metadata": {},
   "outputs": [],
   "source": []
  },
  {
   "cell_type": "code",
   "execution_count": null,
   "id": "2453878b",
   "metadata": {},
   "outputs": [],
   "source": []
  },
  {
   "cell_type": "code",
   "execution_count": null,
   "id": "fde007ff",
   "metadata": {},
   "outputs": [],
   "source": []
  }
 ],
 "metadata": {
  "kernelspec": {
   "display_name": "Python 3 (ipykernel)",
   "language": "python",
   "name": "python3"
  },
  "language_info": {
   "codemirror_mode": {
    "name": "ipython",
    "version": 3
   },
   "file_extension": ".py",
   "mimetype": "text/x-python",
   "name": "python",
   "nbconvert_exporter": "python",
   "pygments_lexer": "ipython3",
   "version": "3.9.12"
  }
 },
 "nbformat": 4,
 "nbformat_minor": 5
}
